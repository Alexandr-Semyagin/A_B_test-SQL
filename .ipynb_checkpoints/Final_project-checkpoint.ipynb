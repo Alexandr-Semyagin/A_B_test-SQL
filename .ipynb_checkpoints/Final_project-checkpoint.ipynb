{
 "cells": [
  {
   "cell_type": "markdown",
   "metadata": {},
   "source": [
    "# Задание 1. A/B–тестирование\n",
    "### 1.1 Условие\n",
    "Одной из основных задач аналитика в нашей команде является корректное проведение экспериментов. Для этого мы применяем метод A/B–тестирования. В ходе тестирования одной гипотезы целевой группе была предложена новая механика оплаты услуг на сайте, у контрольной группы оставалась базовая механика. В качестве задания Вам необходимо проанализировать итоги эксперимента и сделать вывод, стоит ли запускать новую механику оплаты на всех пользователей.\n",
    "\n",
    "### 1.2 Входные данные\n",
    "В качестве входных данных Вы имеете 4 csv-файла:\n",
    "\n",
    "groups.csv - файл с информацией о принадлежности пользователя к контрольной или экспериментальной группе (А – контроль, B – целевая группа) \n",
    "\n",
    "groups_add.csv - дополнительный файл с пользователями, который вам прислали спустя 2 дня после передачи данных\n",
    "\n",
    "active_studs.csv - файл с информацией о пользователях, которые зашли на платформу в дни проведения эксперимента\n",
    "\n",
    "checks.csv - файл с информацией об оплатах пользователей в дни проведения эксперимента. \n",
    "\n",
    "### 1.3 Вопросы\n",
    "Предлагаем Вам ответить на следующие вопросы:\n",
    "\n",
    "- На какие метрики Вы смотрите в ходе анализа и почему?\n",
    "\n",
    "- Имеются ли различия в показателях и с чем они могут быть связаны?\n",
    "\n",
    "- Являются ли эти различия статистически значимыми?\n",
    "\n",
    "- Стоит ли запускать новую механику на всех пользователей?"
   ]
  },
  {
   "cell_type": "code",
   "execution_count": 126,
   "metadata": {},
   "outputs": [],
   "source": [
    "# импортируем библиотеки\n",
    "import pandas as pd\n",
    "import numpy as np \n",
    "import seaborn as sns\n",
    "import matplotlib.pyplot as plt\n",
    "%matplotlib inline\n",
    "import pingouin as pg\n",
    "from tqdm.auto import tqdm\n",
    "from scipy.stats import norm\n",
    "import pandahouse as ph\n",
    "\n",
    "plt.style.use('ggplot')"
   ]
  },
  {
   "cell_type": "code",
   "execution_count": 127,
   "metadata": {},
   "outputs": [],
   "source": [
    "groups_df = pd.read_csv('/mnt/HC_Volume_18315164/home-jupyter/jupyter-a-semjagin-38/Проект_2_groups.csv', sep=';')\n",
    "active_studs_df = pd.read_csv('/mnt/HC_Volume_18315164/home-jupyter/jupyter-a-semjagin-38/Проект_2_active_studs.csv',\n",
    "                              sep=';')\n",
    "checks_df = pd.read_csv('/mnt/HC_Volume_18315164/home-jupyter/jupyter-a-semjagin-38/Проект_2_checks.csv', sep=';')"
   ]
  },
  {
   "cell_type": "code",
   "execution_count": 128,
   "metadata": {},
   "outputs": [],
   "source": [
    "# Создаю массивы для удобства просмотра данных\n",
    "dataframes = [groups_df, active_studs_df, checks_df]\n",
    "frames_names = ['groups_df', 'active_studs_df', 'checks_df']"
   ]
  },
  {
   "cell_type": "code",
   "execution_count": 129,
   "metadata": {},
   "outputs": [
    {
     "name": "stdout",
     "output_type": "stream",
     "text": [
      "groups_df \n",
      "      id grp\n",
      "0  1489   B\n",
      "1  1627   A\n",
      "2  1768   B\n",
      "3  1783   B\n",
      "4  1794   A\n",
      "\n",
      "active_studs_df \n",
      "    student_id\n",
      "0      581585\n",
      "1     5723133\n",
      "2     3276743\n",
      "3     4238589\n",
      "4     4475369\n",
      "\n",
      "checks_df \n",
      "    student_id    rev\n",
      "0        1627  990.0\n",
      "1        3185  690.0\n",
      "2       25973  690.0\n",
      "3       26280  690.0\n",
      "4      100300  990.0\n",
      "\n"
     ]
    }
   ],
   "source": [
    "for i in range(len(dataframes)):\n",
    "    print(frames_names[i], '\\n', dataframes[i].head())\n",
    "    print()"
   ]
  },
  {
   "cell_type": "code",
   "execution_count": 130,
   "metadata": {},
   "outputs": [
    {
     "name": "stdout",
     "output_type": "stream",
     "text": [
      "groups_df \n",
      " id      int64\n",
      "grp    object\n",
      "dtype: object\n",
      "\n",
      "active_studs_df \n",
      " student_id    int64\n",
      "dtype: object\n",
      "\n",
      "checks_df \n",
      " student_id      int64\n",
      "rev           float64\n",
      "dtype: object\n",
      "\n"
     ]
    }
   ],
   "source": [
    "# Смотрим типы данных\n",
    "for i in range(len(dataframes)):\n",
    "    print(frames_names[i], '\\n', dataframes[i].dtypes)\n",
    "    print()"
   ]
  },
  {
   "cell_type": "code",
   "execution_count": 131,
   "metadata": {},
   "outputs": [
    {
     "name": "stdout",
     "output_type": "stream",
     "text": [
      "groups_df \n",
      " 0\n",
      "\n",
      "active_studs_df \n",
      " 0\n",
      "\n",
      "checks_df \n",
      " 0\n",
      "\n"
     ]
    }
   ],
   "source": [
    "# Проверяю на дубли\n",
    "for i in range(len(dataframes)):\n",
    "    print(frames_names[i], '\\n', dataframes[i].duplicated().sum())\n",
    "    print()"
   ]
  },
  {
   "cell_type": "code",
   "execution_count": 132,
   "metadata": {},
   "outputs": [
    {
     "name": "stdout",
     "output_type": "stream",
     "text": [
      "groups_df \n",
      " id     0\n",
      "grp    0\n",
      "dtype: int64\n",
      "\n",
      "active_studs_df \n",
      " student_id    0\n",
      "dtype: int64\n",
      "\n",
      "checks_df \n",
      " student_id    0\n",
      "rev           0\n",
      "dtype: int64\n",
      "\n"
     ]
    }
   ],
   "source": [
    "# Проверка на пропуски\n",
    "for i in range(len(dataframes)):\n",
    "    print(frames_names[i], '\\n', dataframes[i].isna().sum())\n",
    "    print()"
   ]
  },
  {
   "cell_type": "markdown",
   "metadata": {},
   "source": [
    "Данные без сюрпризов, продолжаем с ними работать"
   ]
  },
  {
   "cell_type": "markdown",
   "metadata": {},
   "source": [
    "Меня интересуют те студенты, которые зашли на сайт в дни проведения эксперимента, поэтому для начала необходимо объединить датасеты groups_df и active_studs_df, чтобы присвоить каждому участнику эксперимента метку о принадлежности к контрольной или тестовой группе."
   ]
  },
  {
   "cell_type": "code",
   "execution_count": 133,
   "metadata": {},
   "outputs": [],
   "source": [
    "# переименую колонку в groups_df чтобы объединить по ключу student_id\n",
    "groups_df.rename(columns={'id': 'student_id'}, inplace=True)"
   ]
  },
  {
   "cell_type": "code",
   "execution_count": 134,
   "metadata": {},
   "outputs": [
    {
     "data": {
      "text/html": [
       "<div>\n",
       "<style scoped>\n",
       "    .dataframe tbody tr th:only-of-type {\n",
       "        vertical-align: middle;\n",
       "    }\n",
       "\n",
       "    .dataframe tbody tr th {\n",
       "        vertical-align: top;\n",
       "    }\n",
       "\n",
       "    .dataframe thead th {\n",
       "        text-align: right;\n",
       "    }\n",
       "</style>\n",
       "<table border=\"1\" class=\"dataframe\">\n",
       "  <thead>\n",
       "    <tr style=\"text-align: right;\">\n",
       "      <th></th>\n",
       "      <th>student_id</th>\n",
       "      <th>grp</th>\n",
       "    </tr>\n",
       "  </thead>\n",
       "  <tbody>\n",
       "    <tr>\n",
       "      <th>0</th>\n",
       "      <td>581585</td>\n",
       "      <td>A</td>\n",
       "    </tr>\n",
       "    <tr>\n",
       "      <th>1</th>\n",
       "      <td>5723133</td>\n",
       "      <td>NaN</td>\n",
       "    </tr>\n",
       "    <tr>\n",
       "      <th>2</th>\n",
       "      <td>3276743</td>\n",
       "      <td>B</td>\n",
       "    </tr>\n",
       "    <tr>\n",
       "      <th>3</th>\n",
       "      <td>4238589</td>\n",
       "      <td>A</td>\n",
       "    </tr>\n",
       "    <tr>\n",
       "      <th>4</th>\n",
       "      <td>4475369</td>\n",
       "      <td>B</td>\n",
       "    </tr>\n",
       "  </tbody>\n",
       "</table>\n",
       "</div>"
      ],
      "text/plain": [
       "   student_id  grp\n",
       "0      581585    A\n",
       "1     5723133  NaN\n",
       "2     3276743    B\n",
       "3     4238589    A\n",
       "4     4475369    B"
      ]
     },
     "execution_count": 134,
     "metadata": {},
     "output_type": "execute_result"
    }
   ],
   "source": [
    "active_studs_groups = active_studs_df.merge(groups_df, how='left', on='student_id')\n",
    "active_studs_groups.head()"
   ]
  },
  {
   "cell_type": "code",
   "execution_count": 135,
   "metadata": {},
   "outputs": [
    {
     "data": {
      "text/plain": [
       "student_id     0\n",
       "grp           13\n",
       "dtype: int64"
      ]
     },
     "execution_count": 135,
     "metadata": {},
     "output_type": "execute_result"
    }
   ],
   "source": [
    "# В ячейке выше заметил, что не всем студентам была присвоена группа во время сплитования\n",
    "# Проверим сколько таких пропусков\n",
    "active_studs_groups.isna().sum()"
   ]
  },
  {
   "cell_type": "code",
   "execution_count": 136,
   "metadata": {},
   "outputs": [
    {
     "data": {
      "text/plain": [
       "(8341, 2)"
      ]
     },
     "execution_count": 136,
     "metadata": {},
     "output_type": "execute_result"
    }
   ],
   "source": [
    "active_studs_groups.shape"
   ]
  },
  {
   "cell_type": "markdown",
   "metadata": {},
   "source": [
    "Всего у 13 человек не присвоена группа в ходе эксперимента, их количество незначительно, поэтому я избавлюсь от этих пропусков"
   ]
  },
  {
   "cell_type": "code",
   "execution_count": 137,
   "metadata": {},
   "outputs": [],
   "source": [
    "active_studs_groups.dropna(inplace=True)"
   ]
  },
  {
   "cell_type": "markdown",
   "metadata": {},
   "source": [
    "## Так как у нас есть данные только о покупках, я буду смотреть на 3 основные метрики - CR, ARPU, ARPPU. Эти метрики помогут нам оценить нововведения в платформе оплаты.\n",
    "Но для начала нужно приклеить к нашим данным информацию о покупках, сделаем это"
   ]
  },
  {
   "cell_type": "code",
   "execution_count": 138,
   "metadata": {},
   "outputs": [
    {
     "data": {
      "text/html": [
       "<div>\n",
       "<style scoped>\n",
       "    .dataframe tbody tr th:only-of-type {\n",
       "        vertical-align: middle;\n",
       "    }\n",
       "\n",
       "    .dataframe tbody tr th {\n",
       "        vertical-align: top;\n",
       "    }\n",
       "\n",
       "    .dataframe thead th {\n",
       "        text-align: right;\n",
       "    }\n",
       "</style>\n",
       "<table border=\"1\" class=\"dataframe\">\n",
       "  <thead>\n",
       "    <tr style=\"text-align: right;\">\n",
       "      <th></th>\n",
       "      <th>student_id</th>\n",
       "      <th>grp</th>\n",
       "      <th>rev</th>\n",
       "    </tr>\n",
       "  </thead>\n",
       "  <tbody>\n",
       "    <tr>\n",
       "      <th>0</th>\n",
       "      <td>581585</td>\n",
       "      <td>A</td>\n",
       "      <td>NaN</td>\n",
       "    </tr>\n",
       "    <tr>\n",
       "      <th>1</th>\n",
       "      <td>3276743</td>\n",
       "      <td>B</td>\n",
       "      <td>NaN</td>\n",
       "    </tr>\n",
       "    <tr>\n",
       "      <th>2</th>\n",
       "      <td>4238589</td>\n",
       "      <td>A</td>\n",
       "      <td>NaN</td>\n",
       "    </tr>\n",
       "    <tr>\n",
       "      <th>3</th>\n",
       "      <td>4475369</td>\n",
       "      <td>B</td>\n",
       "      <td>NaN</td>\n",
       "    </tr>\n",
       "    <tr>\n",
       "      <th>4</th>\n",
       "      <td>5481015</td>\n",
       "      <td>B</td>\n",
       "      <td>NaN</td>\n",
       "    </tr>\n",
       "  </tbody>\n",
       "</table>\n",
       "</div>"
      ],
      "text/plain": [
       "   student_id grp  rev\n",
       "0      581585   A  NaN\n",
       "1     3276743   B  NaN\n",
       "2     4238589   A  NaN\n",
       "3     4475369   B  NaN\n",
       "4     5481015   B  NaN"
      ]
     },
     "execution_count": 138,
     "metadata": {},
     "output_type": "execute_result"
    }
   ],
   "source": [
    "active_studs_checks = active_studs_groups.merge(checks_df, how='left', on='student_id')\n",
    "active_studs_checks.head()"
   ]
  },
  {
   "cell_type": "code",
   "execution_count": 139,
   "metadata": {},
   "outputs": [
    {
     "data": {
      "text/html": [
       "<div>\n",
       "<style scoped>\n",
       "    .dataframe tbody tr th:only-of-type {\n",
       "        vertical-align: middle;\n",
       "    }\n",
       "\n",
       "    .dataframe tbody tr th {\n",
       "        vertical-align: top;\n",
       "    }\n",
       "\n",
       "    .dataframe thead th {\n",
       "        text-align: right;\n",
       "    }\n",
       "</style>\n",
       "<table border=\"1\" class=\"dataframe\">\n",
       "  <thead>\n",
       "    <tr style=\"text-align: right;\">\n",
       "      <th></th>\n",
       "      <th>student_id</th>\n",
       "      <th>grp</th>\n",
       "      <th>rev</th>\n",
       "    </tr>\n",
       "  </thead>\n",
       "  <tbody>\n",
       "    <tr>\n",
       "      <th>0</th>\n",
       "      <td>581585</td>\n",
       "      <td>A</td>\n",
       "      <td>0.0</td>\n",
       "    </tr>\n",
       "    <tr>\n",
       "      <th>1</th>\n",
       "      <td>3276743</td>\n",
       "      <td>B</td>\n",
       "      <td>0.0</td>\n",
       "    </tr>\n",
       "    <tr>\n",
       "      <th>2</th>\n",
       "      <td>4238589</td>\n",
       "      <td>A</td>\n",
       "      <td>0.0</td>\n",
       "    </tr>\n",
       "    <tr>\n",
       "      <th>3</th>\n",
       "      <td>4475369</td>\n",
       "      <td>B</td>\n",
       "      <td>0.0</td>\n",
       "    </tr>\n",
       "    <tr>\n",
       "      <th>4</th>\n",
       "      <td>5481015</td>\n",
       "      <td>B</td>\n",
       "      <td>0.0</td>\n",
       "    </tr>\n",
       "  </tbody>\n",
       "</table>\n",
       "</div>"
      ],
      "text/plain": [
       "   student_id grp  rev\n",
       "0      581585   A  0.0\n",
       "1     3276743   B  0.0\n",
       "2     4238589   A  0.0\n",
       "3     4475369   B  0.0\n",
       "4     5481015   B  0.0"
      ]
     },
     "execution_count": 139,
     "metadata": {},
     "output_type": "execute_result"
    }
   ],
   "source": [
    "# Заменим NaN на 0, это студенты, которые не совершали покупок\n",
    "active_studs_checks.fillna(0, inplace=True)\n",
    "active_studs_checks.head()"
   ]
  },
  {
   "cell_type": "markdown",
   "metadata": {},
   "source": [
    "## 1. Сначала проверю есть ли отличия в конверсии в покупку в контрольной и целевой группах. "
   ]
  },
  {
   "cell_type": "code",
   "execution_count": 140,
   "metadata": {},
   "outputs": [
    {
     "data": {
      "text/html": [
       "<div>\n",
       "<style scoped>\n",
       "    .dataframe tbody tr th:only-of-type {\n",
       "        vertical-align: middle;\n",
       "    }\n",
       "\n",
       "    .dataframe tbody tr th {\n",
       "        vertical-align: top;\n",
       "    }\n",
       "\n",
       "    .dataframe thead th {\n",
       "        text-align: right;\n",
       "    }\n",
       "</style>\n",
       "<table border=\"1\" class=\"dataframe\">\n",
       "  <thead>\n",
       "    <tr style=\"text-align: right;\">\n",
       "      <th></th>\n",
       "      <th>student_id</th>\n",
       "      <th>grp</th>\n",
       "      <th>rev</th>\n",
       "      <th>payment</th>\n",
       "    </tr>\n",
       "  </thead>\n",
       "  <tbody>\n",
       "    <tr>\n",
       "      <th>0</th>\n",
       "      <td>581585</td>\n",
       "      <td>A</td>\n",
       "      <td>0.0</td>\n",
       "      <td>0</td>\n",
       "    </tr>\n",
       "    <tr>\n",
       "      <th>1</th>\n",
       "      <td>3276743</td>\n",
       "      <td>B</td>\n",
       "      <td>0.0</td>\n",
       "      <td>0</td>\n",
       "    </tr>\n",
       "    <tr>\n",
       "      <th>2</th>\n",
       "      <td>4238589</td>\n",
       "      <td>A</td>\n",
       "      <td>0.0</td>\n",
       "      <td>0</td>\n",
       "    </tr>\n",
       "    <tr>\n",
       "      <th>3</th>\n",
       "      <td>4475369</td>\n",
       "      <td>B</td>\n",
       "      <td>0.0</td>\n",
       "      <td>0</td>\n",
       "    </tr>\n",
       "    <tr>\n",
       "      <th>4</th>\n",
       "      <td>5481015</td>\n",
       "      <td>B</td>\n",
       "      <td>0.0</td>\n",
       "      <td>0</td>\n",
       "    </tr>\n",
       "  </tbody>\n",
       "</table>\n",
       "</div>"
      ],
      "text/plain": [
       "   student_id grp  rev  payment\n",
       "0      581585   A  0.0        0\n",
       "1     3276743   B  0.0        0\n",
       "2     4238589   A  0.0        0\n",
       "3     4475369   B  0.0        0\n",
       "4     5481015   B  0.0        0"
      ]
     },
     "execution_count": 140,
     "metadata": {},
     "output_type": "execute_result"
    }
   ],
   "source": [
    "# Добавлю новую колонку с индикатором покупки: 1-покупка совершена, 0-покупки не было\n",
    "active_studs_checks['payment'] = active_studs_checks.rev.apply(lambda x: 1 if x != 0 else 0)\n",
    "active_studs_checks.head()"
   ]
  },
  {
   "cell_type": "code",
   "execution_count": 141,
   "metadata": {},
   "outputs": [
    {
     "name": "stdout",
     "output_type": "stream",
     "text": [
      "Конверсия в контрольной группе составляет 0.050814332247557006\n",
      "Конверсия в целевой группе составляет 0.04607684380980421\n"
     ]
    }
   ],
   "source": [
    "# При помощи новой колонки payments рассчитаем конверсию для контрольной и целевой групп.\n",
    "cr_Agroup = active_studs_checks.query('grp==\"A\"').payment.mean()\n",
    "cr_Bgroup = active_studs_checks.query('grp==\"B\"').payment.mean()\n",
    "print(f'Конверсия в контрольной группе составляет {cr_Agroup}')\n",
    "print(f'Конверсия в целевой группе составляет {cr_Bgroup}')"
   ]
  },
  {
   "cell_type": "markdown",
   "metadata": {},
   "source": [
    "Конверсии отличаются, но является ли это различие статистически значимым? Проверим это с помощью Хи квадрата Пирсона (Оптимальный вариант для сравнения конверсий)\n",
    "#### Зафиксируем гипотезы для проведения теста:\n",
    "**H0 - конверсия внутри контрольной и целевой групп не отличается**\n",
    "\n",
    "**H1 - конверсия в целевой группе отличается от конверсии в контрольной группе**\n",
    "\n",
    "**Порог значимости 0.05**\n",
    "\n",
    "Сравниваем две категориальные переменные - группа и наличие покупки, для этого обращусь к библиотеке pingouin к функции chi2_independence"
   ]
  },
  {
   "cell_type": "code",
   "execution_count": 142,
   "metadata": {},
   "outputs": [],
   "source": [
    "expected, observed, stats = pg.chi2_independence(active_studs_checks, x='grp',\n",
    "                                                 y='payment')"
   ]
  },
  {
   "cell_type": "markdown",
   "metadata": {},
   "source": [
    "Если принадлежность к группе не является хорошим предиктором конверсии в покупку, нам следует ожидать, что expected и observed соотношения будут одинаковыми или максимально схожими"
   ]
  },
  {
   "cell_type": "code",
   "execution_count": 143,
   "metadata": {},
   "outputs": [
    {
     "data": {
      "text/html": [
       "<div>\n",
       "<style scoped>\n",
       "    .dataframe tbody tr th:only-of-type {\n",
       "        vertical-align: middle;\n",
       "    }\n",
       "\n",
       "    .dataframe tbody tr th {\n",
       "        vertical-align: top;\n",
       "    }\n",
       "\n",
       "    .dataframe thead th {\n",
       "        text-align: right;\n",
       "    }\n",
       "</style>\n",
       "<table border=\"1\" class=\"dataframe\">\n",
       "  <thead>\n",
       "    <tr style=\"text-align: right;\">\n",
       "      <th>payment</th>\n",
       "      <th>0</th>\n",
       "      <th>1</th>\n",
       "    </tr>\n",
       "    <tr>\n",
       "      <th>grp</th>\n",
       "      <th></th>\n",
       "      <th></th>\n",
       "    </tr>\n",
       "  </thead>\n",
       "  <tbody>\n",
       "    <tr>\n",
       "      <th>A</th>\n",
       "      <td>1462.931676</td>\n",
       "      <td>72.068324</td>\n",
       "    </tr>\n",
       "    <tr>\n",
       "      <th>B</th>\n",
       "      <td>6474.068324</td>\n",
       "      <td>318.931676</td>\n",
       "    </tr>\n",
       "  </tbody>\n",
       "</table>\n",
       "</div>"
      ],
      "text/plain": [
       "payment            0           1\n",
       "grp                             \n",
       "A        1462.931676   72.068324\n",
       "B        6474.068324  318.931676"
      ]
     },
     "execution_count": 143,
     "metadata": {},
     "output_type": "execute_result"
    }
   ],
   "source": [
    "expected"
   ]
  },
  {
   "cell_type": "code",
   "execution_count": 144,
   "metadata": {},
   "outputs": [
    {
     "data": {
      "text/html": [
       "<div>\n",
       "<style scoped>\n",
       "    .dataframe tbody tr th:only-of-type {\n",
       "        vertical-align: middle;\n",
       "    }\n",
       "\n",
       "    .dataframe tbody tr th {\n",
       "        vertical-align: top;\n",
       "    }\n",
       "\n",
       "    .dataframe thead th {\n",
       "        text-align: right;\n",
       "    }\n",
       "</style>\n",
       "<table border=\"1\" class=\"dataframe\">\n",
       "  <thead>\n",
       "    <tr style=\"text-align: right;\">\n",
       "      <th>payment</th>\n",
       "      <th>0</th>\n",
       "      <th>1</th>\n",
       "    </tr>\n",
       "    <tr>\n",
       "      <th>grp</th>\n",
       "      <th></th>\n",
       "      <th></th>\n",
       "    </tr>\n",
       "  </thead>\n",
       "  <tbody>\n",
       "    <tr>\n",
       "      <th>A</th>\n",
       "      <td>1457.5</td>\n",
       "      <td>77.5</td>\n",
       "    </tr>\n",
       "    <tr>\n",
       "      <th>B</th>\n",
       "      <td>6479.5</td>\n",
       "      <td>313.5</td>\n",
       "    </tr>\n",
       "  </tbody>\n",
       "</table>\n",
       "</div>"
      ],
      "text/plain": [
       "payment       0      1\n",
       "grp                   \n",
       "A        1457.5   77.5\n",
       "B        6479.5  313.5"
      ]
     },
     "execution_count": 144,
     "metadata": {},
     "output_type": "execute_result"
    }
   ],
   "source": [
    "observed"
   ]
  },
  {
   "cell_type": "markdown",
   "metadata": {},
   "source": [
    "Сразу можно увидеть, что ожидаемые и наблюдаемые значения практически не отличаются (в группах нет стат.значимого различия в конверсиях). Но чтобы окончательно в этом убедиться - посмотрим на статистику"
   ]
  },
  {
   "cell_type": "code",
   "execution_count": 145,
   "metadata": {},
   "outputs": [
    {
     "data": {
      "text/html": [
       "<div>\n",
       "<style scoped>\n",
       "    .dataframe tbody tr th:only-of-type {\n",
       "        vertical-align: middle;\n",
       "    }\n",
       "\n",
       "    .dataframe tbody tr th {\n",
       "        vertical-align: top;\n",
       "    }\n",
       "\n",
       "    .dataframe thead th {\n",
       "        text-align: right;\n",
       "    }\n",
       "</style>\n",
       "<table border=\"1\" class=\"dataframe\">\n",
       "  <thead>\n",
       "    <tr style=\"text-align: right;\">\n",
       "      <th></th>\n",
       "      <th>test</th>\n",
       "      <th>lambda</th>\n",
       "      <th>chi2</th>\n",
       "      <th>dof</th>\n",
       "      <th>pval</th>\n",
       "      <th>cramer</th>\n",
       "      <th>power</th>\n",
       "    </tr>\n",
       "  </thead>\n",
       "  <tbody>\n",
       "    <tr>\n",
       "      <th>0</th>\n",
       "      <td>pearson</td>\n",
       "      <td>1.000000</td>\n",
       "      <td>0.526607</td>\n",
       "      <td>1.0</td>\n",
       "      <td>0.468037</td>\n",
       "      <td>0.007952</td>\n",
       "      <td>0.112168</td>\n",
       "    </tr>\n",
       "    <tr>\n",
       "      <th>1</th>\n",
       "      <td>cressie-read</td>\n",
       "      <td>0.666667</td>\n",
       "      <td>0.523446</td>\n",
       "      <td>1.0</td>\n",
       "      <td>0.469375</td>\n",
       "      <td>0.007928</td>\n",
       "      <td>0.111786</td>\n",
       "    </tr>\n",
       "    <tr>\n",
       "      <th>2</th>\n",
       "      <td>log-likelihood</td>\n",
       "      <td>0.000000</td>\n",
       "      <td>0.517247</td>\n",
       "      <td>1.0</td>\n",
       "      <td>0.472019</td>\n",
       "      <td>0.007881</td>\n",
       "      <td>0.111037</td>\n",
       "    </tr>\n",
       "    <tr>\n",
       "      <th>3</th>\n",
       "      <td>freeman-tukey</td>\n",
       "      <td>-0.500000</td>\n",
       "      <td>0.512702</td>\n",
       "      <td>1.0</td>\n",
       "      <td>0.473971</td>\n",
       "      <td>0.007846</td>\n",
       "      <td>0.110488</td>\n",
       "    </tr>\n",
       "    <tr>\n",
       "      <th>4</th>\n",
       "      <td>mod-log-likelihood</td>\n",
       "      <td>-1.000000</td>\n",
       "      <td>0.508246</td>\n",
       "      <td>1.0</td>\n",
       "      <td>0.475899</td>\n",
       "      <td>0.007812</td>\n",
       "      <td>0.109950</td>\n",
       "    </tr>\n",
       "    <tr>\n",
       "      <th>5</th>\n",
       "      <td>neyman</td>\n",
       "      <td>-2.000000</td>\n",
       "      <td>0.499590</td>\n",
       "      <td>1.0</td>\n",
       "      <td>0.479680</td>\n",
       "      <td>0.007745</td>\n",
       "      <td>0.108905</td>\n",
       "    </tr>\n",
       "  </tbody>\n",
       "</table>\n",
       "</div>"
      ],
      "text/plain": [
       "                 test    lambda      chi2  dof      pval    cramer     power\n",
       "0             pearson  1.000000  0.526607  1.0  0.468037  0.007952  0.112168\n",
       "1        cressie-read  0.666667  0.523446  1.0  0.469375  0.007928  0.111786\n",
       "2      log-likelihood  0.000000  0.517247  1.0  0.472019  0.007881  0.111037\n",
       "3       freeman-tukey -0.500000  0.512702  1.0  0.473971  0.007846  0.110488\n",
       "4  mod-log-likelihood -1.000000  0.508246  1.0  0.475899  0.007812  0.109950\n",
       "5              neyman -2.000000  0.499590  1.0  0.479680  0.007745  0.108905"
      ]
     },
     "execution_count": 145,
     "metadata": {},
     "output_type": "execute_result"
    }
   ],
   "source": [
    "stats"
   ]
  },
  {
   "cell_type": "markdown",
   "metadata": {},
   "source": [
    "### - Из проведенного теста получили p-val ~ 0.47 что значительно превышает наш установленный порог в 0.05 \n",
    "### - У нас недостаточно оснований отвергнуть нулевую гипотезу и принять альтернативную, следовательно статистически значимых различий между группами по конверсиям нет"
   ]
  },
  {
   "cell_type": "markdown",
   "metadata": {},
   "source": [
    "## 2. Проверим есть ли различия в ARPU И ARPPU"
   ]
  },
  {
   "cell_type": "code",
   "execution_count": 146,
   "metadata": {},
   "outputs": [
    {
     "data": {
      "text/plain": [
       "Text(0.5, 1.0, 'Распределение выручки по группам')"
      ]
     },
     "execution_count": 146,
     "metadata": {},
     "output_type": "execute_result"
    },
    {
     "data": {
      "image/png": "[encoded data removed]",
      "text/plain": [
       "<Figure size 1440x720 with 1 Axes>"
      ]
     },
     "metadata": {},
     "output_type": "display_data"
    }
   ],
   "source": [
    "plt.figure(figsize=(20, 10))  # Распределение для всех юзеров\n",
    "sns.histplot(active_studs_checks, x='rev', hue='grp')\n",
    "plt.xlabel('Revenue')\n",
    "plt.title(\"Распределение выручки по группам\")"
   ]
  },
  {
   "cell_type": "code",
   "execution_count": 147,
   "metadata": {},
   "outputs": [
    {
     "name": "stdout",
     "output_type": "stream",
     "text": [
      "ARPU в контрольной группе = 47.43973941368078, ARPU в целевой группе = 57.86456698071544\n"
     ]
    }
   ],
   "source": [
    "ARPU_A = active_studs_checks.query('grp==\"A\"').rev.mean()\n",
    "ARPU_B = active_studs_checks.query('grp==\"B\"').rev.mean()\n",
    "print(f'ARPU в контрольной группе = {ARPU_A}, ARPU в целевой группе = {ARPU_B}')"
   ]
  },
  {
   "cell_type": "code",
   "execution_count": 148,
   "metadata": {},
   "outputs": [
    {
     "data": {
      "text/plain": [
       "Text(0.5, 1.0, 'Распределение выручки по группам')"
      ]
     },
     "execution_count": 148,
     "metadata": {},
     "output_type": "execute_result"
    },
    {
     "data": {
      "image/png": "[encoded data removed]",
      "text/plain": [
       "<Figure size 1440x720 with 1 Axes>"
      ]
     },
     "metadata": {},
     "output_type": "display_data"
    }
   ],
   "source": [
    "plt.figure(figsize=(20, 10))  # Распределение для платящих юзеров\n",
    "sns.histplot(active_studs_checks.query('rev!=0'), x='rev', hue='grp')\n",
    "plt.xlabel('Revenue')\n",
    "plt.title(\"Распределение выручки по группам\")"
   ]
  },
  {
   "cell_type": "code",
   "execution_count": 149,
   "metadata": {},
   "outputs": [
    {
     "name": "stdout",
     "output_type": "stream",
     "text": [
      "ARPU в контрольной группе = 933.5897435897435, ARPU в целевой группе = 1255.8274872204472\n"
     ]
    }
   ],
   "source": [
    "ARPPU_A = active_studs_checks.query('grp==\"A\" & rev!=0').rev.mean()\n",
    "ARPPU_B = active_studs_checks.query('grp==\"B\" & rev!=0').rev.mean()\n",
    "print(f'ARPU в контрольной группе = {ARPPU_A}, ARPU в целевой группе = {ARPPU_B}')"
   ]
  },
  {
   "cell_type": "markdown",
   "metadata": {},
   "source": [
    "### Различия в метриках есть, осталось только выбрать метод для их сравнения\n",
    "### Оба распределения сильно отличаются от нормальных, поэтому использования t-теста в этом случае не подойдет. Непараметрический критерий Манна-Уитни сложно интерпретировать в язык понятный для бизнеса, поэтому он тоже отсеивается.\n",
    "### В этом случае лучше всего подойдет метод бутсрапа, применим его для ARPU и ARPPU"
   ]
  },
  {
   "cell_type": "code",
   "execution_count": 150,
   "metadata": {},
   "outputs": [],
   "source": [
    "# Объявим функцию, которая позволит проверять гипотезы с помощью бутстрапа \n",
    "# Функция взята из лекции Анатолия Карпова про Бутсрэп анализ\n",
    "def get_bootstrap(\n",
    "    data_column_1,  # числовые значения первой выборки\n",
    "    data_column_2,  # числовые значения второй выборки\n",
    "    boot_it=10000,  # количество бутстрэп-подвыборок\n",
    "    statistic=np.mean,  # интересующая нас статистика\n",
    "    bootstrap_conf_level=0.95   # уровень значимости\n",
    "):\n",
    "    boot_len = max([len(data_column_1), len(data_column_2)])\n",
    "    boot_data = []\n",
    "    for i in tqdm(range(boot_it)):  # извлекаем подвыборки\n",
    "        samples_1 = data_column_1.sample(\n",
    "            boot_len, \n",
    "            replace=True  # параметр возвращения\n",
    "        ).values\n",
    "        \n",
    "        samples_2 = data_column_2.sample(\n",
    "            boot_len,  # чтобы сохранить дисперсию, берем такой же размер выборки\n",
    "            replace=True\n",
    "        ).values\n",
    "        \n",
    "        boot_data.append(statistic(samples_1 - samples_2)) \n",
    "    pd_boot_data = pd.DataFrame(boot_data)\n",
    "        \n",
    "    left_quant = (1 - bootstrap_conf_level) / 2\n",
    "    right_quant = 1 - (1 - bootstrap_conf_level) / 2\n",
    "    quants = pd_boot_data.quantile([left_quant, right_quant])\n",
    "        \n",
    "    p_1 = norm.cdf(\n",
    "        x=0, \n",
    "        loc=np.mean(boot_data), \n",
    "        scale=np.std(boot_data)\n",
    "    )\n",
    "    p_2 = norm.cdf(\n",
    "        x=0, \n",
    "        loc=-np.mean(boot_data), \n",
    "        scale=np.std(boot_data)\n",
    "    )\n",
    "    p_value = min(p_1, p_2) * 2\n",
    "        \n",
    "    # Визуализация\n",
    "    _, _, bars = plt.hist(pd_boot_data[0], bins=50)\n",
    "    for bar in bars:\n",
    "        if abs(bar.get_x()) <= quants.iloc[0][0] or abs(bar.get_x()) >= quants.iloc[1][0]:\n",
    "            bar.set_facecolor('red')\n",
    "        else: \n",
    "            bar.set_facecolor('grey')\n",
    "            bar.set_edgecolor('black')\n",
    "    \n",
    "    plt.style.use('ggplot')\n",
    "    plt.vlines(quants, ymin=0, ymax=50, linestyle='--')\n",
    "    plt.xlabel('boot_data')\n",
    "    plt.ylabel('frequency')\n",
    "    plt.title(\"Histogram of boot_data\")\n",
    "    plt.show()\n",
    "       \n",
    "    return {\"boot_data\": boot_data, \n",
    "            \"quants\": quants, \n",
    "            \"p_value\": p_value}"
   ]
  },
  {
   "cell_type": "markdown",
   "metadata": {},
   "source": [
    "### Проверка на различия ARPU\n",
    "\n",
    "#### Зафиксируем гипотезы для проведения теста:\n",
    "**H0 - ARPU внутри контрольной и целевой групп не отличается**\n",
    "\n",
    "**H1 - ARPU в целевой группе отличается от ARPU в контрольной группе**\n",
    "\n",
    "**Порог значимости 0.05**\n"
   ]
  },
  {
   "cell_type": "code",
   "execution_count": 151,
   "metadata": {},
   "outputs": [
    {
     "data": {
      "application/vnd.jupyter.widget-view+json": {
       "model_id": "ca281ec8667445c6ba94bcf4933136a6",
       "version_major": 2,
       "version_minor": 0
      },
      "text/plain": [
       "HBox(children=(FloatProgress(value=0.0, max=10000.0), HTML(value='')))"
      ]
     },
     "metadata": {},
     "output_type": "display_data"
    },
    {
     "name": "stdout",
     "output_type": "stream",
     "text": [
      "\n"
     ]
    },
    {
     "data": {
      "image/png": "[encoded data removed]",
      "text/plain": [
       "<Figure size 432x288 with 1 Axes>"
      ]
     },
     "metadata": {},
     "output_type": "display_data"
    }
   ],
   "source": [
    "revenue_grpA = active_studs_checks.query('grp==\"A\"').rev\n",
    "revenue_grpB = active_studs_checks.query('grp==\"B\"').rev\n",
    "ARPU_bootstrap = get_bootstrap(revenue_grpA, revenue_grpB)"
   ]
  },
  {
   "cell_type": "code",
   "execution_count": 152,
   "metadata": {},
   "outputs": [],
   "source": [
    "ARPU_bootstrap_pval = ARPU_bootstrap['p_value']"
   ]
  },
  {
   "cell_type": "code",
   "execution_count": 153,
   "metadata": {},
   "outputs": [
    {
     "name": "stdout",
     "output_type": "stream",
     "text": [
      "P-val полученный в ходе применения бутстрэпа составил 0.04190306300962196\n"
     ]
    }
   ],
   "source": [
    "print(f'P-val полученный в ходе применения бутстрэпа составил {ARPU_bootstrap_pval}')"
   ]
  },
  {
   "cell_type": "markdown",
   "metadata": {},
   "source": [
    "### По результатам бутсрэп анализа у нас достаточно оснований отклонить нулевую гипотезу и выыбрать альтернативную - ARPU в 2-х группах стат. значимо отличаются"
   ]
  },
  {
   "cell_type": "markdown",
   "metadata": {},
   "source": [
    "### Проверка на различия ARPPU\n",
    "\n",
    "#### Зафиксируем гипотезы для проведения теста:\n",
    "**H0 - ARPPU внутри контрольной и целевой групп не отличается**\n",
    "\n",
    "**H1 - ARPPU в целевой группе отличается от ARPU в контрольной группе**\n",
    "\n",
    "**Порог значимости 0.05**"
   ]
  },
  {
   "cell_type": "code",
   "execution_count": 154,
   "metadata": {},
   "outputs": [
    {
     "data": {
      "application/vnd.jupyter.widget-view+json": {
       "model_id": "d6d9e11c92f64df8bec8162e6a2852b7",
       "version_major": 2,
       "version_minor": 0
      },
      "text/plain": [
       "HBox(children=(FloatProgress(value=0.0, max=10000.0), HTML(value='')))"
      ]
     },
     "metadata": {},
     "output_type": "display_data"
    },
    {
     "name": "stdout",
     "output_type": "stream",
     "text": [
      "\n"
     ]
    },
    {
     "data": {
      "image/png": "[encoded data removed]",
      "text/plain": [
       "<Figure size 432x288 with 1 Axes>"
      ]
     },
     "metadata": {},
     "output_type": "display_data"
    }
   ],
   "source": [
    "revenue_grpA_payment = active_studs_checks.query('grp==\"A\" & rev!=0').rev\n",
    "revenue_grpB_payment = active_studs_checks.query('grp==\"B\" & rev!=0').rev\n",
    "ARPPU_bootstrap = get_bootstrap(revenue_grpA_payment, revenue_grpB_payment)"
   ]
  },
  {
   "cell_type": "code",
   "execution_count": 155,
   "metadata": {},
   "outputs": [],
   "source": [
    "ARPPU_bootstrap_pval = ARPPU_bootstrap['p_value']"
   ]
  },
  {
   "cell_type": "code",
   "execution_count": 156,
   "metadata": {},
   "outputs": [
    {
     "name": "stdout",
     "output_type": "stream",
     "text": [
      "P-val полученный в ходе применения бутстрэпа составил 1.5732576267036411e-06\n"
     ]
    }
   ],
   "source": [
    "print(f'P-val полученный в ходе применения бутстрэпа составил {ARPPU_bootstrap_pval}')"
   ]
  },
  {
   "cell_type": "markdown",
   "metadata": {},
   "source": [
    "### В случае проверки ARPPU полученный p-val сильно меньше установленного порога, что так же дает нам достаточно оснований отклонить нулевую гипотезу и принять альтернативную - ARPPU в 2-х группах стат. занчимо отличаются"
   ]
  },
  {
   "cell_type": "markdown",
   "metadata": {},
   "source": [
    "# Результаты A/B тестирования:\n",
    "- **Хи-квадрат Пирсона показал, что различия в конверсии не являются статистически значимыми**\n",
    "- **Bootstrap анализ показал что есть статистически значисые различия ARPU и ARPPU в контрольной и целевой группах**\n",
    "# Вывод:\n",
    " - **ARPU вырос с 47.4397 до 57.8645**\n",
    " - **ARPPU вырос с 933.5897 до 1255.8274**\n",
    " - **Статистическая значимость различий есть, поэтому необходимо выкатывать новую механику оплаты услуг на сайте**\n"
   ]
  },
  {
   "cell_type": "markdown",
   "metadata": {},
   "source": [
    "# Задание 2. SQL\n",
    "## 2.1 Очень усердные ученики.\n",
    "### 2.1.1 Условие\n",
    "**Образовательные курсы состоят из различных уроков, каждый из которых состоит из нескольких маленьких заданий. Каждое такое маленькое задание называется \"горошиной\".**\n",
    "**Назовём очень усердным учеником того пользователя, который хотя бы раз за текущий месяц правильно решил 20 горошин.**\n",
    "### 2.1.2 Задача\n",
    "#### Дана таблица default.peas:\n",
    "|Название атрибута  |Тип атрибута   |Смысловое значение   |\n",
    "|---|---|---|\n",
    "st_id|int|ID ученика|\n",
    "timest|\ttimestamp|Время решения карточки|\n",
    "correct|bool|Правильно ли решена горошина?|\n",
    "subject|text|Дисциплина, в которой находится горошина|\n",
    "\n",
    "Необходимо написать оптимальный запрос, который даст информацию о количестве очень усердных студентов.NB! Под усердным студентом мы понимаем студента, который правильно решил 20 задач за текущий месяц."
   ]
  },
  {
   "cell_type": "code",
   "execution_count": 157,
   "metadata": {},
   "outputs": [],
   "source": [
    "# Подключаюсь к clickhouse\n",
    "connection_default = {'host': 'https://clickhouse.lab.karpov.courses',\n",
    "                      'database': 'default',\n",
    "                      'user': 'student', \n",
    "                      'password': 'dpo_python_2020'}"
   ]
  },
  {
   "cell_type": "code",
   "execution_count": 158,
   "metadata": {},
   "outputs": [],
   "source": [
    "q = '''\n",
    "SELECT count() as Num_of_active_students \n",
    "FROM\n",
    "    (SELECT\n",
    "        st_id,\n",
    "        toStartOfMonth(timest) AS month_,\n",
    "        SUM(correct) AS num_of_succes\n",
    "    FROM default.peas\n",
    "    WHERE month_ = MAX(toStartOfMonth(timest))\n",
    "    GROUP BY st_id, month_\n",
    "    HAVING num_of_succes >= 20)\n",
    "'''\n",
    "active_students = ph.read_clickhouse(query=q, connection=connection_default)"
   ]
  },
  {
   "cell_type": "code",
   "execution_count": 159,
   "metadata": {},
   "outputs": [
    {
     "name": "stdout",
     "output_type": "stream",
     "text": [
      "Количество активных студентов = Num_of_active_students    136\n",
      "Name: 0, dtype: uint64\n"
     ]
    }
   ],
   "source": [
    "print(f'Количество активных студентов = {active_students.loc[0]}')"
   ]
  },
  {
   "cell_type": "markdown",
   "metadata": {},
   "source": [
    "# 2.2 Оптимизация воронки\n",
    "\n",
    "### 2.2.1 Условие\n",
    "\n",
    "Образовательная платформа предлагает пройти студентам курсы по модели trial: студент может решить бесплатно лишь 30 горошин в день. Для неограниченного количества заданий в определенной дисциплине студенту необходимо приобрести полный доступ. Команда провела эксперимент, где был протестирован новый экран оплаты.\n",
    "\n",
    "### 2.2.2 Задача\n",
    "\n",
    "Дана таблицы: default.peas (см. выше), default.studs:\n",
    "\n",
    "|Название атрибута  |Тип атрибута   |Смысловое значение   |\n",
    "|---|---|---|\n",
    "|st_id|\tint|\t ID ученика|\n",
    "|test_grp|\ttext|\t Метка ученика в данном эксперименте|\n",
    "\n",
    "и default.final_project_check:\n",
    "\n",
    "|Название атрибута|\tТип атрибута|\tСмысловое значение|\n",
    "|---|---|---|\n",
    "st_id|\tint| \tID ученика|\n",
    "sale_time|\ttimestamp|\tВремя покупки|\n",
    "money|\tint|\tЦена, по которой приобрели данный курс|\n",
    "subject|\ttext |\t|\n",
    "\n",
    "**Необходимо в одном запросе выгрузить следующую информацию о группах пользователей:**\n",
    "\n",
    "- ARPU \n",
    "- ARPAU \n",
    "- CR в покупку \n",
    "- СR активного пользователя в покупку \n",
    "- CR пользователя из активности по математике (subject = ’math’) в покупку курса по математике\n",
    "- ARPU считается относительно всех пользователей, попавших в группы.\n",
    "\n",
    "Активным считается пользователь, за все время решивший больше 10 задач правильно в любых дисциплинах.\n",
    "\n",
    "Активным по математике считается пользователь, за все время решивший 2 или больше задач правильно по математике."
   ]
  },
  {
   "cell_type": "code",
   "execution_count": 160,
   "metadata": {},
   "outputs": [],
   "source": [
    "qq = '''\n",
    "SELECT\n",
    "    l.test_grp AS test_grp_,\n",
    "    SUM(r.money)/uniqExact(l.st_id) AS ARPU,\n",
    "    SUM(r.money)/SUM(succes_all_subject) AS ARPAU,\n",
    "    COUNT(DISTINCT r.st_id)/COUNT(DISTINCT l.st_id) AS CR,\n",
    "    sumIf(succes_all_subject, succesful_students.st_id = r.st_id)/SUM(succes_all_subject) AS CR_active,\n",
    "    sumIf(succes_math, succesful_students.st_id = r.st_id AND r.subject='Math')/SUM(succes_math) AS CR_active_math\n",
    "FROM studs AS l\n",
    "    LEFT JOIN \n",
    "final_project_check AS r\n",
    "    ON l.st_id = r.st_id\n",
    "    LEFT JOIN \n",
    "(SELECT\n",
    "    all_subjects.st_id AS st_id,\n",
    "    CASE\n",
    "        WHEN all_subjects.sum_correct > 9 THEN 1\n",
    "        ELSE 0\n",
    "    END AS succes_all_subject,\n",
    "    CASE \n",
    "        WHEN sum_correct_math > 1 THEN 1\n",
    "        ELSE 0\n",
    "    END AS succes_math\n",
    "FROM\n",
    "    (SELECT \n",
    "        st_id,\n",
    "        SUM(correct) AS sum_correct\n",
    "    FROM    \n",
    "        peas\n",
    "    GROUP BY st_id) as all_subjects\n",
    "    LEFT JOIN \n",
    "    (SELECT\n",
    "                        st_id,\n",
    "                        SUM(correct) AS sum_correct_math\n",
    "                 FROM peas\n",
    "                 WHERE subject = 'Math'\n",
    "                 GROUP BY st_id) as math\n",
    "    ON all_subjects.st_id = math.st_id) AS succesful_students\n",
    "ON l.st_id = succesful_students.st_id\n",
    "\n",
    "GROUP BY test_grp\n",
    "'''\n",
    "metrics_one_shot = ph.read_clickhouse(query=qq, connection=connection_default)"
   ]
  },
  {
   "cell_type": "code",
   "execution_count": 161,
   "metadata": {},
   "outputs": [
    {
     "data": {
      "text/html": [
       "<div>\n",
       "<style scoped>\n",
       "    .dataframe tbody tr th:only-of-type {\n",
       "        vertical-align: middle;\n",
       "    }\n",
       "\n",
       "    .dataframe tbody tr th {\n",
       "        vertical-align: top;\n",
       "    }\n",
       "\n",
       "    .dataframe thead th {\n",
       "        text-align: right;\n",
       "    }\n",
       "</style>\n",
       "<table border=\"1\" class=\"dataframe\">\n",
       "  <thead>\n",
       "    <tr style=\"text-align: right;\">\n",
       "      <th></th>\n",
       "      <th>test_grp_</th>\n",
       "      <th>ARPU</th>\n",
       "      <th>ARPAU</th>\n",
       "      <th>CR</th>\n",
       "      <th>CR_active</th>\n",
       "      <th>CR_active_math</th>\n",
       "    </tr>\n",
       "  </thead>\n",
       "  <tbody>\n",
       "    <tr>\n",
       "      <th>0</th>\n",
       "      <td>control</td>\n",
       "      <td>4540.983607</td>\n",
       "      <td>10259.259259</td>\n",
       "      <td>0.052459</td>\n",
       "      <td>0.125926</td>\n",
       "      <td>0.060000</td>\n",
       "    </tr>\n",
       "    <tr>\n",
       "      <th>1</th>\n",
       "      <td>pilot</td>\n",
       "      <td>11508.474576</td>\n",
       "      <td>30585.585586</td>\n",
       "      <td>0.111864</td>\n",
       "      <td>0.315315</td>\n",
       "      <td>0.086957</td>\n",
       "    </tr>\n",
       "  </tbody>\n",
       "</table>\n",
       "</div>"
      ],
      "text/plain": [
       "  test_grp_          ARPU         ARPAU        CR  CR_active  CR_active_math\n",
       "0   control   4540.983607  10259.259259  0.052459   0.125926        0.060000\n",
       "1     pilot  11508.474576  30585.585586  0.111864   0.315315        0.086957"
      ]
     },
     "execution_count": 161,
     "metadata": {},
     "output_type": "execute_result"
    }
   ],
   "source": [
    "metrics_one_shot"
   ]
  },
  {
   "cell_type": "markdown",
   "metadata": {},
   "source": [
    "# Задание 3. Python\n",
    "## 3.1 Задача\n",
    "\n",
    "### 1. Реализуйте функцию, которая будет автоматически подгружать информацию из дополнительного файла groups_add.csv (заголовки могут отличаться) и на основании дополнительных параметров пересчитывать метрики.\n",
    "### 2. Реализуйте функцию, которая будет строить графики по получаемым метрикам."
   ]
  },
  {
   "cell_type": "code",
   "execution_count": 162,
   "metadata": {},
   "outputs": [],
   "source": [
    "def upload_extra_df():\n",
    "    groups_df = pd.read_csv('/mnt/HC_Volume_18315164/home-jupyter/jupyter-a-semjagin-38/Проект_2_groups.csv',\n",
    "                            sep=';', header=0, names=['id', 'grp'])\n",
    "    active_studs_df = pd.read_csv('../Проект_2_active_studs.csv',\n",
    "                                  sep=';', header=0, names=['id'])\n",
    "    checks_df = pd.read_csv('/mnt/HC_Volume_18315164/home-jupyter/jupyter-a-semjagin-38/Проект_2_checks.csv',\n",
    "                            sep=';', header=0, names=['id', 'rev'])\n",
    "    add_df = pd.read_csv('/mnt/HC_Volume_18315164/home-jupyter/jupyter-a-semjagin-38/Проект_2_group_add (2).csv',\n",
    "                         header=0, names=['id', 'grp'])\n",
    "    \n",
    "    \n",
    "    groups_df = groups_df.append(add_df)\n",
    "    active_groups_df = active_studs_df.merge(groups_df, how='left', on='id')\n",
    "    active_groups_check_df = active_groups_df.merge(checks_df, how='left', on='id')\n",
    "    active_groups_check_df.fillna(0, inplace=True)\n",
    "    active_groups_check_df['payment'] = active_groups_check_df.rev.apply(lambda x: 1 if x != 0 else 0)\n",
    "    \n",
    "    Agroup = active_groups_check_df.query('grp==\"A\"')\n",
    "    Bgroup = active_groups_check_df.query('grp==\"B\"')\n",
    "    \n",
    "    Cr_Agroup = Agroup.payment.mean().round(4)\n",
    "    Cr_Bgroup = Bgroup.payment.mean().round(4)\n",
    "    \n",
    "    ARPU_Agroup = Agroup.rev.mean().round(4)\n",
    "    ARPU_Bgroup = Bgroup.rev.mean().round(4)\n",
    "    \n",
    "    ARPPU_Agroup = Agroup.query('payment==1').rev.mean().round(4)\n",
    "    ARPPU_Bgroup = Bgroup.query('payment==1').rev.mean().round(4)\n",
    "    metrics_dict = {'grp': ['A', 'B'], 'CR': [Cr_Agroup, Cr_Bgroup],\n",
    "                    'ARPU': [ARPU_Agroup, ARPU_Bgroup], 'ARPPU': [ARPPU_Agroup, ARPPU_Bgroup]}\n",
    "    refreshed_metrics = pd.DataFrame(metrics_dict)\n",
    "    return refreshed_metrics\n",
    "    "
   ]
  },
  {
   "cell_type": "code",
   "execution_count": 163,
   "metadata": {},
   "outputs": [],
   "source": [
    "# Можно было реализовать через requests, но яндекс диск жадничает и не дает много скачивать\n",
    "# def upload_df(pub_link):\n",
    "    # используем api\n",
    "    # base_url = 'https://cloud-api.yandex.net/v1/disk/public/resources/download?' \n",
    "    # public_key = pub_link \n",
    "\n",
    "    # получаем url \n",
    "    # final_url = base_url + urlencode(dict(public_key=public_key)) \n",
    "    # response = requests.get(final_url) \n",
    "    # download_url = response.json()['href'] \n",
    "\n",
    "    # загружаем дф \n",
    "    # download_response = requests.get(download_url) \n",
    "    # return download_url\n",
    "# Эту функцию передавать при чтении файлов в pd    "
   ]
  },
  {
   "cell_type": "code",
   "execution_count": 164,
   "metadata": {},
   "outputs": [
    {
     "data": {
      "text/html": [
       "<div>\n",
       "<style scoped>\n",
       "    .dataframe tbody tr th:only-of-type {\n",
       "        vertical-align: middle;\n",
       "    }\n",
       "\n",
       "    .dataframe tbody tr th {\n",
       "        vertical-align: top;\n",
       "    }\n",
       "\n",
       "    .dataframe thead th {\n",
       "        text-align: right;\n",
       "    }\n",
       "</style>\n",
       "<table border=\"1\" class=\"dataframe\">\n",
       "  <thead>\n",
       "    <tr style=\"text-align: right;\">\n",
       "      <th></th>\n",
       "      <th>grp</th>\n",
       "      <th>CR</th>\n",
       "      <th>ARPU</th>\n",
       "      <th>ARPPU</th>\n",
       "    </tr>\n",
       "  </thead>\n",
       "  <tbody>\n",
       "    <tr>\n",
       "      <th>0</th>\n",
       "      <td>A</td>\n",
       "      <td>0.0507</td>\n",
       "      <td>47.3472</td>\n",
       "      <td>933.5897</td>\n",
       "    </tr>\n",
       "    <tr>\n",
       "      <th>1</th>\n",
       "      <td>B</td>\n",
       "      <td>0.0462</td>\n",
       "      <td>58.0588</td>\n",
       "      <td>1257.8790</td>\n",
       "    </tr>\n",
       "  </tbody>\n",
       "</table>\n",
       "</div>"
      ],
      "text/plain": [
       "  grp      CR     ARPU      ARPPU\n",
       "0   A  0.0507  47.3472   933.5897\n",
       "1   B  0.0462  58.0588  1257.8790"
      ]
     },
     "execution_count": 164,
     "metadata": {},
     "output_type": "execute_result"
    }
   ],
   "source": [
    "upload_extra_df()"
   ]
  },
  {
   "cell_type": "code",
   "execution_count": 165,
   "metadata": {},
   "outputs": [],
   "source": [
    "def metrics_plots(fresh_metrics):\n",
    "    plt.figure(figsize=(20, 15)) \n",
    "    plt.subplot(131)\n",
    "    sns.barplot(data=fresh_metrics, x='grp', y='CR', palette='colorblind')\n",
    "    plt.xlabel('Экспериментальная группа')\n",
    "    plt.ylabel('Конверсия')\n",
    "    plt.title(\"Конверсия в покупку (CR,%)\")\n",
    "    plt.subplot(132)\n",
    "    sns.barplot(data=fresh_metrics, x='grp', y='ARPU', palette='colorblind')\n",
    "    plt.xlabel('Экспериментальная группа')\n",
    "    plt.ylabel('ARPU')\n",
    "    plt.title(\"Средний чек на пользователя (ARPU,$)\")\n",
    "    plt.subplot(133)\n",
    "    sns.barplot(data=fresh_metrics, x='grp', y='ARPPU', palette='colorblind')\n",
    "    plt.xlabel('Экспериментальная группа')\n",
    "    plt.ylabel('ARPPU')\n",
    "    plt.title(\"Средний чек на платящего пользователя (ARPPU,$)\")"
   ]
  },
  {
   "cell_type": "code",
   "execution_count": 166,
   "metadata": {},
   "outputs": [
    {
     "data": {
      "image/png": "[encoded data removed]",
      "text/plain": [
       "<Figure size 1440x1080 with 3 Axes>"
      ]
     },
     "metadata": {},
     "output_type": "display_data"
    }
   ],
   "source": [
    "metrics_plots(upload_extra_df())"
   ]
  }
 ],
 "metadata": {
  "kernelspec": {
   "display_name": "Python 3",
   "language": "python",
   "name": "python3"
  },
  "language_info": {
   "codemirror_mode": {
    "name": "ipython",
    "version": 3
   },
   "file_extension": ".py",
   "mimetype": "text/x-python",
   "name": "python",
   "nbconvert_exporter": "python",
   "pygments_lexer": "ipython3",
   "version": "3.7.3"
  }
 },
 "nbformat": 4,
 "nbformat_minor": 4
}
